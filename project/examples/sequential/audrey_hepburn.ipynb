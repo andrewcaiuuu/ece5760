{
 "cells": [
  {
   "cell_type": "code",
   "execution_count": 2,
   "metadata": {},
   "outputs": [],
   "source": [
    "import numpy as np"
   ]
  },
  {
   "cell_type": "code",
   "execution_count": 12,
   "metadata": {},
   "outputs": [],
   "source": [
    "def generate_hooks(n_hooks, wheel_pixel_size):\n",
    "    \n",
    "    r = (wheel_pixel_size / 2) - 1\n",
    "    \n",
    "    theta = np.arange(n_hooks, dtype=\"float64\") / n_hooks * (2 * np.pi)\n",
    "\n",
    "    x = r * (1 + np.cos(theta)) + 0.5\n",
    "    y = r * (1 + np.sin(theta)) + 0.5\n",
    "    \n",
    "    return np.array((x.astype(int),y.astype(int))).T\n",
    "\n",
    "def through_pixels(p0, p1s):\n",
    "    pixels = []\n",
    "    for p1 in p1s:\n",
    "        d = max(int(((p0[0]-p1[0])**2 + (p0[1]-p1[1])**2) ** 0.5), 1)\n",
    "        pixels_ = p0 + (p1-p0) * np.array([np.arange(d+1), np.arange(d+1)]).T / d\n",
    "        pixels_ = np.unique(np.round(pixels_), axis=0).astype(int)\n",
    "        pixels.append(pixels_)\n",
    "    pixels = np.concatenate(pixels)\n",
    "    return pixels\n",
    "\n",
    "\n",
    "def generate_hook_pixels(n_hooks, wheel_pixel_size):\n",
    "    \n",
    "    hooks = generate_hooks(n_hooks, wheel_pixel_size)\n",
    "    n_pairs = n_hooks * (n_hooks - 1) // 2\n",
    "    \n",
    "    pixels_list = []\n",
    "    for i in range(len(hooks)-1):\n",
    "        p0, p1s = hooks[i], hooks[i+1:]\n",
    "        pixels = through_pixels(p0, p1s)\n",
    "        # do something with the pixels\n",
    "\n",
    "    \n",
    "    return np.concatenate(pixels_list, axis=0)"
   ]
  },
  {
   "cell_type": "code",
   "execution_count": 13,
   "metadata": {},
   "outputs": [
    {
     "ename": "ValueError",
     "evalue": "need at least one array to concatenate",
     "output_type": "error",
     "traceback": [
      "\u001b[1;31m---------------------------------------------------------------------------\u001b[0m",
      "\u001b[1;31mValueError\u001b[0m                                Traceback (most recent call last)",
      "Cell \u001b[1;32mIn[13], line 3\u001b[0m\n\u001b[0;32m      1\u001b[0m generate_hooks(\u001b[39m10\u001b[39m, \u001b[39m100\u001b[39m)\n\u001b[1;32m----> 3\u001b[0m generate_hook_pixels(\u001b[39m10\u001b[39;49m, \u001b[39m100\u001b[39;49m)\n",
      "Cell \u001b[1;32mIn[12], line 31\u001b[0m, in \u001b[0;36mgenerate_hook_pixels\u001b[1;34m(n_hooks, wheel_pixel_size)\u001b[0m\n\u001b[0;32m     29\u001b[0m \u001b[39mfor\u001b[39;00m i \u001b[39min\u001b[39;00m \u001b[39mrange\u001b[39m(n_pairs):\n\u001b[0;32m     30\u001b[0m     p0, p1 \u001b[39m=\u001b[39m hooks[i], hooks[i\u001b[39m+\u001b[39m\u001b[39m1\u001b[39m:]\n\u001b[1;32m---> 31\u001b[0m     pixels \u001b[39m=\u001b[39m through_pixels(p0, p1)\n\u001b[0;32m     32\u001b[0m     pixels_list\u001b[39m.\u001b[39mappend(pixels)\n\u001b[0;32m     34\u001b[0m \u001b[39mreturn\u001b[39;00m np\u001b[39m.\u001b[39mconcatenate(pixels_list, axis\u001b[39m=\u001b[39m\u001b[39m0\u001b[39m)\n",
      "Cell \u001b[1;32mIn[12], line 19\u001b[0m, in \u001b[0;36mthrough_pixels\u001b[1;34m(p0, p1s)\u001b[0m\n\u001b[0;32m     17\u001b[0m     pixels_ \u001b[39m=\u001b[39m np\u001b[39m.\u001b[39munique(np\u001b[39m.\u001b[39mround(pixels_), axis\u001b[39m=\u001b[39m\u001b[39m0\u001b[39m)\u001b[39m.\u001b[39mastype(\u001b[39mint\u001b[39m)\n\u001b[0;32m     18\u001b[0m     pixels\u001b[39m.\u001b[39mappend(pixels_)\n\u001b[1;32m---> 19\u001b[0m pixels \u001b[39m=\u001b[39m np\u001b[39m.\u001b[39;49mconcatenate(pixels)\n\u001b[0;32m     20\u001b[0m \u001b[39mreturn\u001b[39;00m pixels\n",
      "File \u001b[1;32m<__array_function__ internals>:180\u001b[0m, in \u001b[0;36mconcatenate\u001b[1;34m(*args, **kwargs)\u001b[0m\n",
      "\u001b[1;31mValueError\u001b[0m: need at least one array to concatenate"
     ]
    }
   ],
   "source": [
    "generate_hooks(10, 100)\n",
    "\n",
    "generate_hook_pixels(10, 100)"
   ]
  }
 ],
 "metadata": {
  "kernelspec": {
   "display_name": "base",
   "language": "python",
   "name": "python3"
  },
  "language_info": {
   "codemirror_mode": {
    "name": "ipython",
    "version": 3
   },
   "file_extension": ".py",
   "mimetype": "text/x-python",
   "name": "python",
   "nbconvert_exporter": "python",
   "pygments_lexer": "ipython3",
   "version": "3.9.15"
  },
  "orig_nbformat": 4
 },
 "nbformat": 4,
 "nbformat_minor": 2
}
