{
 "cells": [
  {
   "cell_type": "code",
   "execution_count": 37,
   "metadata": {},
   "outputs": [],
   "source": [
    "import numpy as np\n",
    "import time\n",
    "from PIL import Image\n",
    "import os\n",
    "import sys\n",
    "from numba import cuda"
   ]
  },
  {
   "cell_type": "code",
   "execution_count": 17,
   "metadata": {},
   "outputs": [],
   "source": [
    "def generate_hooks(n_hooks, wheel_pixel_size):\n",
    "    \n",
    "    r = (wheel_pixel_size / 2) - 1\n",
    "    \n",
    "    theta = np.arange(n_hooks, dtype=\"float64\") / n_hooks * (2 * np.pi)\n",
    "    \n",
    "    x = r * (1 + np.cos(theta)) + 0.5\n",
    "    y = r * (1 + np.sin(theta)) + 0.5\n",
    "    \n",
    "    return np.array((x,y)).T\n",
    "\n",
    "\n",
    "def through_pixels(p0, p1):\n",
    "    \n",
    "    d = max(int(((p0[0]-p1[0])**2 + (p0[1]-p1[1])**2) ** 0.5), 1)\n",
    "    \n",
    "    pixels = p0 + (p1-p0) * np.array([np.arange(d+1), np.arange(d+1)]).T / d\n",
    "    pixels = np.unique(np.round(pixels), axis=0).astype(int)\n",
    "    \n",
    "    return pixels\n",
    "\n",
    "\n",
    "def build_through_pixels_dict(n_hooks):\n",
    "\n",
    "    n_hook_sides = n_hooks\n",
    "\n",
    "    l = [(0,1)]\n",
    "    for j in range(n_hook_sides):\n",
    "        for i in range(j):\n",
    "            l.append((i, j))\n",
    "    \n",
    "    random_order = np.random.choice(len(l),len(l),replace=False)\n",
    "    \n",
    "    d = {}    \n",
    "    t_list = []\n",
    "    t0 = time.time()\n",
    "    \n",
    "    for n in range(len(l)):\n",
    "        (i, j) = l[random_order[n]]\n",
    "        p0, p1 = hooks[i], hooks[j]\n",
    "        d[(i,j)] = through_pixels(p0, p1)\n",
    "        \n",
    "        t = time.time() - t0\n",
    "        t_left = t * (len(l) - n - 1) / (n + 1)\n",
    "        print(f\"time left = {time.strftime('%M:%S', time.gmtime(t_left))}\", end=\"\\r\")\n",
    "    \n",
    "    return d"
   ]
  },
  {
   "cell_type": "code",
   "execution_count": 26,
   "metadata": {},
   "outputs": [
    {
     "name": "stdout",
     "output_type": "stream",
     "text": [
      "time left = 00:00\r"
     ]
    }
   ],
   "source": [
    "n_hooks = 20\n",
    "wheel_pixel_size = 500\n",
    "hook_pixel_size = 0\n",
    "hooks = generate_hooks(n_hooks, wheel_pixel_size)\n",
    "through_pixels_dict = build_through_pixels_dict(n_hooks)"
   ]
  },
  {
   "cell_type": "code",
   "execution_count": 28,
   "metadata": {},
   "outputs": [
    {
     "name": "stdout",
     "output_type": "stream",
     "text": [
      "(500, 500)\n",
      "59393\n"
     ]
    }
   ],
   "source": [
    "test = np.zeros((500, 500))\n",
    "print(test.shape)\n",
    "count = 0\n",
    "for pixels in through_pixels_dict.values():\n",
    "    for pixel in pixels:\n",
    "        count += 1\n",
    "        test[pixel[0], pixel[1]] = 255\n",
    "print(count)\n",
    "image = Image.fromarray(test)\n",
    "image.show()\n"
   ]
  },
  {
   "cell_type": "code",
   "execution_count": 36,
   "metadata": {},
   "outputs": [
    {
     "name": "stdout",
     "output_type": "stream",
     "text": [
      "0\n"
     ]
    }
   ],
   "source": [
    "cwd = os.getcwd()\n",
    "image = Image.open(\"audrey.jpg\").convert(\"L\")\n",
    "# Convert the image to a NumPy array\n",
    "image_array = np.array(image)\n",
    "\n",
    "# Define the center and radius of the circle\n",
    "cx, cy = 250, 250\n",
    "r = 250\n",
    "\n",
    "# Create a grid of x and y coordinates\n",
    "x, y = np.meshgrid(np.arange(image_array.shape[1]), np.arange(image_array.shape[0]))\n",
    "\n",
    "# Compute the distance from each pixel to the center of the circle\n",
    "distances = np.sqrt((x - cx)**2 + (y - cy)**2)\n",
    "\n",
    "# Create a boolean mask that is True for pixels inside the circle\n",
    "mask = distances < r\n",
    "\n",
    "# Filter the pixel values using the mask\n",
    "image_array[~mask] = 0\n",
    "\n",
    "# Convert the NumPy array back to an image\n",
    "new_image = Image.fromarray(image_array)\n",
    "\n",
    "# Display the new image\n",
    "new_image.show()\n",
    "\n",
    "print(image_array[0,0])"
   ]
  },
  {
   "cell_type": "code",
   "execution_count": 50,
   "metadata": {},
   "outputs": [],
   "source": [
    "def compute_norm(through_pixels_dict): \n",
    "    cur_min, (target_i, target_j) = sys.maxsize, (0, 0)\n",
    "    for (i, j), pixels in through_pixels_dict.items():\n",
    "        # Compute test_line and ref using array indexing\n",
    "        test_line = building[pixels[:, 0], pixels[:, 1]] + 10\n",
    "        ref = image_array[pixels[:, 0], pixels[:, 1]]\n",
    "\n",
    "        # Clip test_line between 0 and 255 and compute the norm\n",
    "        arr_test_line = np.clip(test_line, a_min=0, a_max=255)\n",
    "        arr_ref = np.array(ref)\n",
    "        norm = np.linalg.norm(arr_test_line - arr_ref)\n",
    "        \n",
    "        # Update cur_min and (target_i, target_j) if necessary\n",
    "        if norm < cur_min:\n",
    "            cur_min = norm\n",
    "            (target_i, target_j) = (i, j)\n",
    "\n",
    "    # Update the building array and clip between 0 and 255\n",
    "    pixels = through_pixels_dict[(target_i, target_j)]\n",
    "    building[pixels[:, 0], pixels[:, 1]] += 10\n",
    "    np.clip(building, a_min=0, a_max=255)\n",
    "    return cur_min, (target_i, target_j)\n",
    "\n"
   ]
  },
  {
   "cell_type": "code",
   "execution_count": 55,
   "metadata": {},
   "outputs": [],
   "source": [
    "building = np.zeros((500, 500))\n",
    "\n",
    "prev_min, (i, j) = compute_norm(through_pixels_dict)\n",
    "del through_pixels_dict[(i, j)]\n",
    "\n",
    "cur_min, (i, j) = compute_norm(through_pixels_dict)\n",
    "del through_pixels_dict[(i, j)]\n",
    "\n",
    "max_iters = 100000\n",
    "t0 = time.time()\n",
    "for num_iters in range(max_iters):\n",
    "    # if cur_min >= prev_min:\n",
    "    #     # break\n",
    "    prev_min = cur_min\n",
    "    cur_min, = compute_norm(through_pixels_dict)[:1]\n",
    "\n",
    "    # t = time.time() - t0\n",
    "    # t_left = t * (max_iters) / (num_iters + 1)\n",
    "    # print(f\"time left = {time.strftime('%M:%S', time.gmtime(t_left))}\", end=\"\\r\")\n",
    "\n",
    "\n",
    "image = Image.fromarray(building)\n",
    "image.show()"
   ]
  }
 ],
 "metadata": {
  "kernelspec": {
   "display_name": "base",
   "language": "python",
   "name": "python3"
  },
  "language_info": {
   "codemirror_mode": {
    "name": "ipython",
    "version": 3
   },
   "file_extension": ".py",
   "mimetype": "text/x-python",
   "name": "python",
   "nbconvert_exporter": "python",
   "pygments_lexer": "ipython3",
   "version": "3.9.12"
  },
  "orig_nbformat": 4
 },
 "nbformat": 4,
 "nbformat_minor": 2
}
